{
  "nbformat": 4,
  "nbformat_minor": 0,
  "metadata": {
    "colab": {
      "name": "Копия bert-atmosfeer.ipynb",
      "provenance": [],
      "collapsed_sections": [],
      "toc_visible": true
    },
    "kernelspec": {
      "name": "python3",
      "display_name": "Python 3"
    },
    "accelerator": "GPU"
  },
  "cells": [
    {
      "cell_type": "code",
      "metadata": {
        "id": "dzs6fxKScZSB",
        "outputId": "ae04da31-9d8c-4379-99ff-59a1225f346f",
        "colab": {
          "base_uri": "https://localhost:8080/"
        }
      },
      "source": [
        "!nvidia-smi"
      ],
      "execution_count": 50,
      "outputs": [
        {
          "output_type": "stream",
          "text": [
            "Fri Oct 30 17:17:31 2020       \n",
            "+-----------------------------------------------------------------------------+\n",
            "| NVIDIA-SMI 455.32.00    Driver Version: 418.67       CUDA Version: 10.1     |\n",
            "|-------------------------------+----------------------+----------------------+\n",
            "| GPU  Name        Persistence-M| Bus-Id        Disp.A | Volatile Uncorr. ECC |\n",
            "| Fan  Temp  Perf  Pwr:Usage/Cap|         Memory-Usage | GPU-Util  Compute M. |\n",
            "|                               |                      |               MIG M. |\n",
            "|===============================+======================+======================|\n",
            "|   0  Tesla P100-PCIE...  Off  | 00000000:00:04.0 Off |                    0 |\n",
            "| N/A   34C    P0    32W / 250W |    281MiB / 16280MiB |      0%      Default |\n",
            "|                               |                      |                 ERR! |\n",
            "+-------------------------------+----------------------+----------------------+\n",
            "                                                                               \n",
            "+-----------------------------------------------------------------------------+\n",
            "| Processes:                                                                  |\n",
            "|  GPU   GI   CI        PID   Type   Process name                  GPU Memory |\n",
            "|        ID   ID                                                   Usage      |\n",
            "|=============================================================================|\n",
            "|  No running processes found                                                 |\n",
            "+-----------------------------------------------------------------------------+\n"
          ],
          "name": "stdout"
        }
      ]
    },
    {
      "cell_type": "code",
      "metadata": {
        "id": "g1NZRrcpFcIG"
      },
      "source": [
        "!pip install pycuda"
      ],
      "execution_count": null,
      "outputs": []
    },
    {
      "cell_type": "code",
      "metadata": {
        "id": "RTIUa7CXGX0V",
        "outputId": "75e8b5a9-cbb5-448b-ef70-97ae6d5069be",
        "colab": {
          "base_uri": "https://localhost:8080/",
          "height": 35
        }
      },
      "source": [
        "import pycuda.autoinit\n",
        "\n",
        "from pycuda.tools import make_default_context\n",
        "make_default_context().get_device().name()"
      ],
      "execution_count": 2,
      "outputs": [
        {
          "output_type": "execute_result",
          "data": {
            "application/vnd.google.colaboratory.intrinsic+json": {
              "type": "string"
            },
            "text/plain": [
              "'Tesla P100-PCIE-16GB'"
            ]
          },
          "metadata": {
            "tags": []
          },
          "execution_count": 2
        }
      ]
    },
    {
      "cell_type": "code",
      "metadata": {
        "id": "cG7W3CAjPJR1"
      },
      "source": [
        ""
      ],
      "execution_count": null,
      "outputs": []
    },
    {
      "cell_type": "markdown",
      "metadata": {
        "id": "CT7U9eyziBOZ"
      },
      "source": [
        "## Define functions"
      ]
    },
    {
      "cell_type": "code",
      "metadata": {
        "id": "1iAoeYrkPJT4"
      },
      "source": [
        "import numpy as np\n",
        "from numpy import linalg as la\n",
        "from pycuda import driver, compiler, gpuarray, tools\n",
        "import time\n",
        "\n",
        "# -- initialize the device\n",
        "import pycuda.autoinit\n",
        "\n",
        "MATRIX_SIZE = 300\n",
        "\n",
        "def matmul(a_gpu,b_gpu,MATRIX_SIZE=MATRIX_SIZE):\n",
        "    kernel_code_template = \"\"\"\n",
        "    __global__ void MatrixMulKernel(float *A, float *B, float *C)\n",
        "    {\n",
        "\n",
        "      const uint wA = %(MATRIX_SIZE)s;\n",
        "      const uint wB = %(MATRIX_SIZE)s;\n",
        "\n",
        "      // Индекс блока\n",
        "      const uint bx = blockIdx.x;\n",
        "      const uint by = blockIdx.y;\n",
        "\n",
        "      // Индекс треда\n",
        "      const uint tx = threadIdx.x;\n",
        "      const uint ty = threadIdx.y;\n",
        "\n",
        "      // Индекс первой подматрицы А обрабатываемого блока\n",
        "      const uint aBegin = wA * %(BLOCK_SIZE)s * by;\n",
        "\n",
        "      // Индекс последней подматрицы А, обрабатываемого блока\n",
        "      const uint aEnd = aBegin + wA - 1;\n",
        "\n",
        "      // Размер шага, используемый для итерирования подматрицы A\n",
        "      const uint aStep = %(BLOCK_SIZE)s;\n",
        "\n",
        "      // Индекс первой подматрицы B, обрабатываемой блоком\n",
        "      const uint bBegin = %(BLOCK_SIZE)s * bx;\n",
        "\n",
        "      // Размер шага, используемый для итерирования подматрицы В\n",
        "      const uint bStep = %(BLOCK_SIZE)s * wB;\n",
        "\n",
        "      // Элемент блока подматрицы, которая вычисляется в треде\n",
        "      float Csub = 0;\n",
        "\n",
        "      // Цикл по всем подматрицам A и B, который вычисляет блок подматрицы\n",
        "      for (int a = aBegin, b = bBegin;\n",
        "           a <= aEnd;\n",
        "           a += aStep, b += bStep)\n",
        "        {\n",
        "          // Общая память для подматрицы А\n",
        "          __shared__ float As[%(BLOCK_SIZE)s][%(BLOCK_SIZE)s];\n",
        "\n",
        "          // Общая память для подматрицы В\n",
        "          __shared__ float Bs[%(BLOCK_SIZE)s][%(BLOCK_SIZE)s];\n",
        "\n",
        "          // Загрузка матриц из глобальной памяти в общую память, \n",
        "          // каждый тред загружает один эелмент каждой матрицы\n",
        "          As[ty][tx] = A[a + wA * ty + tx];\n",
        "          Bs[ty][tx] = B[b + wB * ty + tx];\n",
        "          // Синхронизация\n",
        "          __syncthreads();\n",
        "\n",
        "          // Умножение двух матриц:\n",
        "          // каждый поток вычисляет один элемент\n",
        "          // блочной подматрицы\n",
        "          for (int k = 0; k < %(BLOCK_SIZE)s; ++k)\n",
        "            Csub += As[ty][k] * Bs[k][tx];\n",
        "\n",
        "          // Синхронизация\n",
        "          __syncthreads();\n",
        "        }\n",
        "\n",
        "      // Запись блока подматрицы в глобальную память, каждый тред пишет только один эелемент\n",
        "      const uint c = wB * %(BLOCK_SIZE)s * by + %(BLOCK_SIZE)s * bx;\n",
        "      C[c + wB * ty + tx] = Csub;\n",
        "    }\n",
        "    \"\"\"\n",
        "\n",
        "    TILE_SIZE = 2\n",
        "    BLOCK_SIZE = TILE_SIZE\n",
        "\n",
        "    kernel_code = kernel_code_template % {\n",
        "        'MATRIX_SIZE': MATRIX_SIZE,\n",
        "        'BLOCK_SIZE': BLOCK_SIZE,\n",
        "        }\n",
        "\n",
        "    mod = compiler.SourceModule(kernel_code)\n",
        "    \n",
        "    c_gpu = gpuarray.empty((MATRIX_SIZE, MATRIX_SIZE), np.float32)\n",
        "\n",
        "    matrixmul = mod.get_function(\"MatrixMulKernel\")\n",
        "\n",
        "    matrixmul(\n",
        "        a_gpu, b_gpu,\n",
        "        c_gpu,\n",
        "        # Сетка для блоков\n",
        "        grid = (MATRIX_SIZE // TILE_SIZE, MATRIX_SIZE // TILE_SIZE),\n",
        "        # Блок из тредов\n",
        "        block = (TILE_SIZE, TILE_SIZE, 1),\n",
        "        )\n",
        "\n",
        "    return c_gpu\n",
        "\n",
        "\n",
        "def matmul_CPU(matrix1, matrix2):\n",
        "    rmatrix = np.zeros(shape=(matrix1.shape[0], matrix2.shape[1]))\n",
        "    for i in range(len(matrix1)):\n",
        "        for j in range(len(matrix2[0])):\n",
        "            for k in range(len(matrix2)):\n",
        "                rmatrix[i][j] += matrix1[i][k] * matrix2[k][j]\n",
        "    return rmatrix"
      ],
      "execution_count": 38,
      "outputs": []
    },
    {
      "cell_type": "code",
      "metadata": {
        "id": "fOaMhhyya4ru"
      },
      "source": [
        ""
      ],
      "execution_count": null,
      "outputs": []
    },
    {
      "cell_type": "markdown",
      "metadata": {
        "id": "RxKFcj0zh9jS"
      },
      "source": [
        "## Experiment"
      ]
    },
    {
      "cell_type": "code",
      "metadata": {
        "id": "QNW7crVxW8Lh",
        "outputId": "eac1992a-a248-4807-cb11-2c5992a0405b",
        "colab": {
          "base_uri": "https://localhost:8080/"
        }
      },
      "source": [
        "cpu_time = []\n",
        "gpu_time = []\n",
        "diffs = []\n",
        "\n",
        "for size in [128, 256, 512, 1024]:\n",
        "    a_cpu = np.random.randn(size, size).astype(np.float32)\n",
        "    b_cpu = np.random.randn(size, size).astype(np.float32)\n",
        "\n",
        "    start=time.clock()\n",
        "    c_cpu = matmul_CPU(a_cpu, b_cpu)\n",
        "    end = time.clock()\n",
        "    print(\"size:\", size)\n",
        "    \n",
        "    time_ = end - start\n",
        "    cpu_time.append(time_)\n",
        "    print(\"CPU time:\", time_)\n",
        "\n",
        "    a_gpu = gpuarray.to_gpu(a_cpu)\n",
        "    b_gpu = gpuarray.to_gpu(b_cpu)\n",
        "\n",
        "    start = time.clock()\n",
        "    c_gpu = matmul(a_gpu, b_gpu, size)\n",
        "    end = time.clock()\n",
        "\n",
        "    time_ = end - start\n",
        "    gpu_time.append(time_)\n",
        "    print(\"GPU time:\", time_)\n",
        "\n",
        "    print (\"-\" * 80)\n",
        "    print (\"CPU-GPU difference:\")\n",
        "\n",
        "    diff = sum(sum(c_cpu - c_gpu.get()))\n",
        "    diffs.append(diff)\n",
        "    print(diff)\n",
        "\n"
      ],
      "execution_count": 49,
      "outputs": [
        {
          "output_type": "stream",
          "text": [
            "size: 128\n",
            "CPU time: 2.368279000000001\n",
            "GPU time: 0.010721000000003755\n",
            "--------------------------------------------------------------------------------\n",
            "CPU-GPU difference:\n",
            "-0.00011179200137689804\n",
            "size: 256\n",
            "CPU time: 18.176358999999998\n",
            "GPU time: 0.008343999999993912\n",
            "--------------------------------------------------------------------------------\n",
            "CPU-GPU difference:\n",
            "0.00046707218080577206\n",
            "size: 512\n",
            "CPU time: 153.18132100000003\n",
            "GPU time: 0.012725000000017417\n",
            "--------------------------------------------------------------------------------\n",
            "CPU-GPU difference:\n",
            "-0.001293041450669996\n",
            "size: 1024\n",
            "CPU time: 1268.3495\n",
            "GPU time: 0.04690899999991416\n",
            "--------------------------------------------------------------------------------\n",
            "CPU-GPU difference:\n",
            "-0.009678433472705805\n"
          ],
          "name": "stdout"
        }
      ]
    },
    {
      "cell_type": "code",
      "metadata": {
        "id": "mxO3QpjYl1Mg",
        "outputId": "bf1b2440-a4bc-4e20-ecc7-c838a4df7b4a",
        "colab": {
          "base_uri": "https://localhost:8080/",
          "height": 166
        }
      },
      "source": [
        "import pandas as pd\n",
        "\n",
        "pd.DataFrame({'CPU time': cpu_time, 'GPU time': gpu_time, 'Difference': diffs}, index=[128, 256, 512, 1024])"
      ],
      "execution_count": 74,
      "outputs": [
        {
          "output_type": "execute_result",
          "data": {
            "text/html": [
              "<div>\n",
              "<style scoped>\n",
              "    .dataframe tbody tr th:only-of-type {\n",
              "        vertical-align: middle;\n",
              "    }\n",
              "\n",
              "    .dataframe tbody tr th {\n",
              "        vertical-align: top;\n",
              "    }\n",
              "\n",
              "    .dataframe thead th {\n",
              "        text-align: right;\n",
              "    }\n",
              "</style>\n",
              "<table border=\"1\" class=\"dataframe\">\n",
              "  <thead>\n",
              "    <tr style=\"text-align: right;\">\n",
              "      <th></th>\n",
              "      <th>CPU time</th>\n",
              "      <th>GPU time</th>\n",
              "      <th>Difference</th>\n",
              "    </tr>\n",
              "  </thead>\n",
              "  <tbody>\n",
              "    <tr>\n",
              "      <th>128</th>\n",
              "      <td>2.368279</td>\n",
              "      <td>0.010721</td>\n",
              "      <td>-0.000112</td>\n",
              "    </tr>\n",
              "    <tr>\n",
              "      <th>256</th>\n",
              "      <td>18.176359</td>\n",
              "      <td>0.008344</td>\n",
              "      <td>0.000467</td>\n",
              "    </tr>\n",
              "    <tr>\n",
              "      <th>512</th>\n",
              "      <td>153.181321</td>\n",
              "      <td>0.012725</td>\n",
              "      <td>-0.001293</td>\n",
              "    </tr>\n",
              "    <tr>\n",
              "      <th>1024</th>\n",
              "      <td>1268.349500</td>\n",
              "      <td>0.046909</td>\n",
              "      <td>-0.009678</td>\n",
              "    </tr>\n",
              "  </tbody>\n",
              "</table>\n",
              "</div>"
            ],
            "text/plain": [
              "         CPU time  GPU time  Difference\n",
              "128      2.368279  0.010721   -0.000112\n",
              "256     18.176359  0.008344    0.000467\n",
              "512    153.181321  0.012725   -0.001293\n",
              "1024  1268.349500  0.046909   -0.009678"
            ]
          },
          "metadata": {
            "tags": []
          },
          "execution_count": 74
        }
      ]
    },
    {
      "cell_type": "code",
      "metadata": {
        "id": "Zm96OmR_XwfS",
        "outputId": "42597d4d-d9fd-4454-b6a0-2f01c379d33f",
        "colab": {
          "base_uri": "https://localhost:8080/",
          "height": 334
        }
      },
      "source": [
        "import matplotlib.pyplot as plt\n",
        "\n",
        "\n",
        "plt.figure(figsize=(10, 5))\n",
        "plt.plot([128, 256, 512, 1024], cpu_time, 'go-', label='CPU')\n",
        "plt.plot([128, 256, 512, 1024], gpu_time, 'ro-', label='GPU')\n",
        "plt.grid(True)\n",
        "plt.ylabel('time, s')\n",
        "plt.xlabel('matrix size')\n",
        "plt.legend();"
      ],
      "execution_count": 65,
      "outputs": [
        {
          "output_type": "display_data",
          "data": {
            "image/png": "[encoded data removed]",
            "text/plain": [
              "<Figure size 720x360 with 1 Axes>"
            ]
          },
          "metadata": {
            "tags": [],
            "needs_background": "light"
          }
        }
      ]
    },
    {
      "cell_type": "code",
      "metadata": {
        "id": "2OYp8hPEamhB",
        "outputId": "9d31db91-0818-4698-841f-6da88fe21050",
        "colab": {
          "base_uri": "https://localhost:8080/",
          "height": 334
        }
      },
      "source": [
        "plt.figure(figsize=(10, 5))\n",
        "plt.plot([128, 256, 512, 1024], gpu_time, 'ro-', label='GPU')\n",
        "plt.grid(True)\n",
        "plt.ylabel('time, s')\n",
        "plt.xlabel('matrix size')\n",
        "plt.legend();"
      ],
      "execution_count": 68,
      "outputs": [
        {
          "output_type": "display_data",
          "data": {
            "image/png": "[encoded data removed]",
            "text/plain": [
              "<Figure size 720x360 with 1 Axes>"
            ]
          },
          "metadata": {
            "tags": [],
            "needs_background": "light"
          }
        }
      ]
    },
    {
      "cell_type": "code",
      "metadata": {
        "id": "p_A7ip5kljZd",
        "outputId": "aa292dac-5c94-4ac4-84f8-94e01e40694e",
        "colab": {
          "base_uri": "https://localhost:8080/",
          "height": 351
        }
      },
      "source": [
        "plt.figure(figsize=(10, 5))\n",
        "plt.plot([128, 256, 512, 1024], diffs, 'go-')\n",
        "plt.grid(True)\n",
        "plt.ylabel('difference')\n",
        "plt.xlabel('matrix size')\n",
        "plt.legend();"
      ],
      "execution_count": 71,
      "outputs": [
        {
          "output_type": "stream",
          "text": [
            "No handles with labels found to put in legend.\n"
          ],
          "name": "stderr"
        },
        {
          "output_type": "display_data",
          "data": {
            "image/png": "[encoded data removed]",
            "text/plain": [
              "<Figure size 720x360 with 1 Axes>"
            ]
          },
          "metadata": {
            "tags": [],
            "needs_background": "light"
          }
        }
      ]
    },
    {
      "cell_type": "code",
      "metadata": {
        "id": "LpKbiFaSamjM",
        "outputId": "056e3172-2eb2-400d-f6ab-370564f0a797",
        "colab": {
          "base_uri": "https://localhost:8080/"
        }
      },
      "source": [
        "np.array(cpu_time) - np.array(gpu_time)"
      ],
      "execution_count": 70,
      "outputs": [
        {
          "output_type": "execute_result",
          "data": {
            "text/plain": [
              "array([   2.357558,   18.168015,  153.168596, 1268.302591])"
            ]
          },
          "metadata": {
            "tags": []
          },
          "execution_count": 70
        }
      ]
    },
    {
      "cell_type": "code",
      "metadata": {
        "id": "7l9J1_7zamld"
      },
      "source": [
        ""
      ],
      "execution_count": null,
      "outputs": []
    }
  ]
}