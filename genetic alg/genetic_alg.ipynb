{
  "nbformat": 4,
  "nbformat_minor": 0,
  "metadata": {
    "accelerator": "GPU",
    "colab": {
      "name": "genetic_alg.ipynb",
      "provenance": [],
      "collapsed_sections": [],
      "toc_visible": true
    },
    "kernelspec": {
      "display_name": "Python 3",
      "language": "python",
      "name": "python3"
    },
    "language_info": {
      "codemirror_mode": {
        "name": "ipython",
        "version": 3
      },
      "file_extension": ".py",
      "mimetype": "text/x-python",
      "name": "python",
      "nbconvert_exporter": "python",
      "pygments_lexer": "ipython3",
      "version": "3.8.5"
    }
  },
  "cells": [
    {
      "cell_type": "code",
      "metadata": {
        "id": "7EnZn2evEAqn"
      },
      "source": [
        "import numpy as np\n",
        "import matplotlib.pyplot as plt\n",
        "import random\n",
        "import time\n",
        "import pandas as pd\n",
        "import torch\n",
        "random.seed(0)\n",
        "np.random.seed(0)"
      ],
      "execution_count": 1,
      "outputs": []
    },
    {
      "cell_type": "code",
      "metadata": {
        "id": "hfSQKMylgYxm"
      },
      "source": [
        "torch.cuda.empty_cache()"
      ],
      "execution_count": 2,
      "outputs": []
    },
    {
      "cell_type": "code",
      "metadata": {
        "colab": {
          "base_uri": "https://localhost:8080/"
        },
        "id": "SJZUYAVRgYxn",
        "outputId": "877ec7d4-6e67-4a36-da5c-af1ae750793b"
      },
      "source": [
        "!lscpu |grep 'Model name'"
      ],
      "execution_count": 3,
      "outputs": [
        {
          "output_type": "stream",
          "name": "stdout",
          "text": [
            "Model name:          Intel(R) Xeon(R) CPU @ 2.30GHz\n"
          ]
        }
      ]
    },
    {
      "cell_type": "code",
      "metadata": {
        "colab": {
          "base_uri": "https://localhost:8080/"
        },
        "id": "M0IPSb5fgYxo",
        "outputId": "93bac089-0d4b-45d2-b73a-cbbaa09ec197"
      },
      "source": [
        "!nvidia-smi"
      ],
      "execution_count": 4,
      "outputs": [
        {
          "output_type": "stream",
          "name": "stdout",
          "text": [
            "Wed Dec 15 20:47:07 2021       \n",
            "+-----------------------------------------------------------------------------+\n",
            "| NVIDIA-SMI 495.44       Driver Version: 460.32.03    CUDA Version: 11.2     |\n",
            "|-------------------------------+----------------------+----------------------+\n",
            "| GPU  Name        Persistence-M| Bus-Id        Disp.A | Volatile Uncorr. ECC |\n",
            "| Fan  Temp  Perf  Pwr:Usage/Cap|         Memory-Usage | GPU-Util  Compute M. |\n",
            "|                               |                      |               MIG M. |\n",
            "|===============================+======================+======================|\n",
            "|   0  Tesla K80           Off  | 00000000:00:04.0 Off |                    0 |\n",
            "| N/A   51C    P8    30W / 149W |      0MiB / 11441MiB |      0%      Default |\n",
            "|                               |                      |                  N/A |\n",
            "+-------------------------------+----------------------+----------------------+\n",
            "                                                                               \n",
            "+-----------------------------------------------------------------------------+\n",
            "| Processes:                                                                  |\n",
            "|  GPU   GI   CI        PID   Type   Process name                  GPU Memory |\n",
            "|        ID   ID                                                   Usage      |\n",
            "|=============================================================================|\n",
            "|  No running processes found                                                 |\n",
            "+-----------------------------------------------------------------------------+\n"
          ]
        }
      ]
    },
    {
      "cell_type": "markdown",
      "metadata": {
        "id": "LeEq6ndhmHA-"
      },
      "source": [
        "# genetic alg with numpy"
      ]
    },
    {
      "cell_type": "markdown",
      "metadata": {
        "id": "bi5IXqD8mO_L"
      },
      "source": [
        "## parametrs numpy"
      ]
    },
    {
      "cell_type": "code",
      "metadata": {
        "id": "ZcPG0IzuVPVH"
      },
      "source": [
        "num_weight = 5 \n",
        "weight = np.random.uniform(low=-1.0, high=1.0, size=num_weight) \n",
        "individum = 5000\n",
        "pop_size = (individum, num_weight)\n",
        "new_pop = np.random.uniform(low=-1.0, high=1.0, size=pop_size)\n",
        "max_gen = 1\n",
        "num_parents = 2"
      ],
      "execution_count": 26,
      "outputs": []
    },
    {
      "cell_type": "code",
      "metadata": {
        "colab": {
          "base_uri": "https://localhost:8080/"
        },
        "id": "Xnf2-YjWRQCu",
        "outputId": "1e405d02-6b97-4c8c-fd69-6639a7f38a71"
      },
      "source": [
        "print('true weight', weight)\n",
        "print('new pop\\n', new_pop)"
      ],
      "execution_count": 27,
      "outputs": [
        {
          "output_type": "stream",
          "name": "stdout",
          "text": [
            "true weight [0.66507301 0.03364956 0.85383909 0.9436131  0.3502597 ]\n",
            "new pop\n",
            " [[-0.37579978  0.15136754 -0.25742706 -0.46199194 -0.09164045]\n",
            " [-0.17244575  0.22117854  0.7072353  -0.30073256 -0.10217601]\n",
            " [ 0.66626616 -0.61820565 -0.74905874  0.08800952  0.66222845]\n",
            " ...\n",
            " [-0.69068839 -0.89988935 -0.71075812 -0.98184224  0.07858217]\n",
            " [-0.58662962 -0.96565905 -0.77828165 -0.6787283  -0.34378878]\n",
            " [ 0.52249562 -0.58819168 -0.34989498  0.53163957  0.49869455]]\n"
          ]
        }
      ]
    },
    {
      "cell_type": "markdown",
      "metadata": {
        "id": "jHG1IxfWmSnE"
      },
      "source": [
        "## visual"
      ]
    },
    {
      "cell_type": "code",
      "metadata": {
        "colab": {
          "base_uri": "https://localhost:8080/",
          "height": 374
        },
        "id": "B26c4izoKmeH",
        "outputId": "93659afe-8c97-4962-ae18-ccbf60cc34e1"
      },
      "source": [
        "x = np.linspace(0, 10, 500)\n",
        "y = np.array([\n",
        "    weight[0] * (x**4) + \n",
        "    weight[1] * (x**3) + \n",
        "    weight[2] * (x**2) + \n",
        "    weight[3] * x +\n",
        "    weight[4] for x in x         \n",
        "])\n",
        "\n",
        "fig, ax = plt.subplots(figsize = (12, 6))\n",
        "ax.plot(x, y, label='true', color='#ed8087', linewidth=3)\n",
        "ax.grid(True)\n",
        "ax.legend(fontsize=14)\n",
        "plt.show()"
      ],
      "execution_count": 28,
      "outputs": [
        {
          "output_type": "display_data",
          "data": {
            "image/png": "[encoded data removed]",
            "text/plain": [
              "<Figure size 864x432 with 1 Axes>"
            ]
          },
          "metadata": {
            "needs_background": "light"
          }
        }
      ]
    },
    {
      "cell_type": "markdown",
      "metadata": {
        "id": "t3d93DhNmXnl"
      },
      "source": [
        "## fitness funcs "
      ]
    },
    {
      "cell_type": "code",
      "metadata": {
        "id": "17xK7ig8RUE9"
      },
      "source": [
        "def fitnessCupy(weight, pop):\n",
        "    out = cp.zeros(pop.shape[0])\n",
        "    for i in range(pop.shape[0]):\n",
        "        out[i] = cp.linalg.norm(weight-pop[i])\n",
        "    return out"
      ],
      "execution_count": 29,
      "outputs": []
    },
    {
      "cell_type": "code",
      "metadata": {
        "id": "JAtqWkzoUJ7_"
      },
      "source": [
        "def fitnessNumpy(weight, pop):\n",
        "    return np.linalg.norm(weight - pop, axis=1)"
      ],
      "execution_count": 30,
      "outputs": []
    },
    {
      "cell_type": "markdown",
      "metadata": {
        "id": "lLUPLJSJmaV9"
      },
      "source": [
        "## parents func"
      ]
    },
    {
      "cell_type": "code",
      "metadata": {
        "id": "ze7Ds--mZ8u_"
      },
      "source": [
        "def parentsNumpy(pop, fitness, num_parents):\n",
        "    parents = np.empty((num_parents, pop.shape[1]))\n",
        "    for parent_num in range(num_parents):\n",
        "        max_fitness_idx = np.argmin(fitness)\n",
        "        parents[parent_num, :] = pop[max_fitness_idx, :]\n",
        "        fitness[max_fitness_idx] = np.inf\n",
        "    return parents"
      ],
      "execution_count": 31,
      "outputs": []
    },
    {
      "cell_type": "markdown",
      "metadata": {
        "id": "PeLfDbfbmeEw"
      },
      "source": [
        "## crossover func"
      ]
    },
    {
      "cell_type": "code",
      "metadata": {
        "id": "v6tEq0Z5ZoTX"
      },
      "source": [
        "def crossoverNumpy(parents, offspring_size):\n",
        "    offspring = np.empty(offspring_size)\n",
        "    crossover_point = np.uint8(offspring_size[1]/2)\n",
        "\n",
        "    for k in range(offspring_size[0]):\n",
        "        parent1_idx = k % parents.shape[0]\n",
        "        parent2_idx = (k + 1) % parents.shape[0]\n",
        "        offspring[k, :crossover_point] = parents[parent1_idx, :crossover_point]\n",
        "        offspring[k, crossover_point:] = parents[parent2_idx, crossover_point:]\n",
        "\n",
        "    return offspring"
      ],
      "execution_count": 32,
      "outputs": []
    },
    {
      "cell_type": "markdown",
      "metadata": {
        "id": "E7u9zPvzmhDY"
      },
      "source": [
        "## mutation func"
      ]
    },
    {
      "cell_type": "code",
      "metadata": {
        "id": "2jCFyZXlacJr"
      },
      "source": [
        "def mutationNumpy(offspring_crossover):\n",
        "    for idx in range(offspring_crossover.shape[0]):\n",
        "        random_value = np.random.uniform(-1.0, 1.0, 1)\n",
        "        offspring_crossover[idx, 2] = offspring_crossover[idx, 2] + random_value\n",
        "\n",
        "    return offspring_crossover"
      ],
      "execution_count": 33,
      "outputs": []
    },
    {
      "cell_type": "markdown",
      "metadata": {
        "id": "kMH4hhc6mlJA"
      },
      "source": [
        "## example"
      ]
    },
    {
      "cell_type": "code",
      "metadata": {
        "id": "l0Zw3acUadwx"
      },
      "source": [
        "t = time.time()\n",
        "for _ in range(max_gen):\n",
        "    fitness = fitnessNumpy(weight, new_pop)\n",
        "    parents = parentsNumpy(new_pop, fitness, num_parents)\n",
        "    offspring_crossover = crossoverNumpy(parents, offspring_size=(pop_size[0] - parents.shape[0], num_weight))\n",
        "    offspring_mutation = mutationNumpy(offspring_crossover)\n",
        "    new_pop[:parents.shape[0], :] = parents\n",
        "    new_pop[parents.shape[0]:, :] = offspring_mutation\n",
        "time_cpu = round(time.time() - t, 2)"
      ],
      "execution_count": 34,
      "outputs": []
    },
    {
      "cell_type": "code",
      "metadata": {
        "id": "GZRL8gRo5E4g",
        "colab": {
          "base_uri": "https://localhost:8080/"
        },
        "outputId": "49be9d31-e643-47d3-c851-6c9899350687"
      },
      "source": [
        "time_cpu"
      ],
      "execution_count": 35,
      "outputs": [
        {
          "output_type": "execute_result",
          "data": {
            "text/plain": [
              "0.05"
            ]
          },
          "metadata": {},
          "execution_count": 35
        }
      ]
    },
    {
      "cell_type": "markdown",
      "metadata": {
        "id": "IGpWASSsmrrc"
      },
      "source": [
        "## visual true and predict polynom"
      ]
    },
    {
      "cell_type": "code",
      "metadata": {
        "id": "NO-SfLBZa2ko",
        "colab": {
          "base_uri": "https://localhost:8080/",
          "height": 374
        },
        "outputId": "42faf446-a6a4-4e2c-f079-dd4cb1258464"
      },
      "source": [
        "best_weight = new_pop[np.argmin(fitnessNumpy(weight, new_pop))]\n",
        "y_pred = np.array([\n",
        "    best_weight[0] * (x**4) + \n",
        "    best_weight[1] * (x**3) + \n",
        "    best_weight[2] * (x**2) + \n",
        "    best_weight[3] * x +\n",
        "    best_weight[4] for x in x         \n",
        "])\n",
        "\n",
        "fig, ax = plt.subplots(figsize = (12, 6))\n",
        "ax.plot(x, y, label='true', color='#ed8087', linewidth=3)\n",
        "ax.plot(x, y_pred, label='predicted', color='#d036ff', linewidth=3)\n",
        "ax.grid(True)\n",
        "ax.legend(fontsize=14)\n",
        "plt.savefig('cpu.jpg')\n",
        "plt.show()"
      ],
      "execution_count": 36,
      "outputs": [
        {
          "output_type": "display_data",
          "data": {
            "image/png": "[encoded data removed]",
            "text/plain": [
              "<Figure size 864x432 with 1 Axes>"
            ]
          },
          "metadata": {
            "needs_background": "light"
          }
        }
      ]
    },
    {
      "cell_type": "markdown",
      "metadata": {
        "id": "lRTOt65umxA6"
      },
      "source": [
        "## table best weight and true weight"
      ]
    },
    {
      "cell_type": "code",
      "metadata": {
        "id": "cs0VT064jVVz"
      },
      "source": [
        "data = pd.DataFrame(data={\n",
        "    'best_weight': best_weight,\n",
        "    'true_weight': weight\n",
        "})"
      ],
      "execution_count": 37,
      "outputs": []
    },
    {
      "cell_type": "code",
      "metadata": {
        "id": "M8rszuV6jmLA",
        "colab": {
          "base_uri": "https://localhost:8080/",
          "height": 206
        },
        "outputId": "762043fc-4279-4937-d9ed-93bf7b8d1641"
      },
      "source": [
        "data"
      ],
      "execution_count": 38,
      "outputs": [
        {
          "output_type": "execute_result",
          "data": {
            "text/html": [
              "<div>\n",
              "<style scoped>\n",
              "    .dataframe tbody tr th:only-of-type {\n",
              "        vertical-align: middle;\n",
              "    }\n",
              "\n",
              "    .dataframe tbody tr th {\n",
              "        vertical-align: top;\n",
              "    }\n",
              "\n",
              "    .dataframe thead th {\n",
              "        text-align: right;\n",
              "    }\n",
              "</style>\n",
              "<table border=\"1\" class=\"dataframe\">\n",
              "  <thead>\n",
              "    <tr style=\"text-align: right;\">\n",
              "      <th></th>\n",
              "      <th>best_weight</th>\n",
              "      <th>true_weight</th>\n",
              "    </tr>\n",
              "  </thead>\n",
              "  <tbody>\n",
              "    <tr>\n",
              "      <th>0</th>\n",
              "      <td>0.679996</td>\n",
              "      <td>0.665073</td>\n",
              "    </tr>\n",
              "    <tr>\n",
              "      <th>1</th>\n",
              "      <td>0.184101</td>\n",
              "      <td>0.033650</td>\n",
              "    </tr>\n",
              "    <tr>\n",
              "      <th>2</th>\n",
              "      <td>0.878296</td>\n",
              "      <td>0.853839</td>\n",
              "    </tr>\n",
              "    <tr>\n",
              "      <th>3</th>\n",
              "      <td>0.909280</td>\n",
              "      <td>0.943613</td>\n",
              "    </tr>\n",
              "    <tr>\n",
              "      <th>4</th>\n",
              "      <td>0.431228</td>\n",
              "      <td>0.350260</td>\n",
              "    </tr>\n",
              "  </tbody>\n",
              "</table>\n",
              "</div>"
            ],
            "text/plain": [
              "   best_weight  true_weight\n",
              "0     0.679996     0.665073\n",
              "1     0.184101     0.033650\n",
              "2     0.878296     0.853839\n",
              "3     0.909280     0.943613\n",
              "4     0.431228     0.350260"
            ]
          },
          "metadata": {},
          "execution_count": 38
        }
      ]
    },
    {
      "cell_type": "markdown",
      "metadata": {
        "id": "HMP9aCDEm4gX"
      },
      "source": [
        "## time statics"
      ]
    },
    {
      "cell_type": "code",
      "metadata": {
        "id": "Adulh8OhpOWZ"
      },
      "source": [
        "df = pd.DataFrame(data={\n",
        "    'CPU':{\n",
        "        'time':time_cpu,\n",
        "        'gen':max_gen\n",
        "    }\n",
        "})"
      ],
      "execution_count": 39,
      "outputs": []
    },
    {
      "cell_type": "code",
      "metadata": {
        "id": "q_2sb7J2hJ0V"
      },
      "source": [
        "def fitnessTorch(weight, pop):\n",
        "    out = torch.zeros(pop.shape[0]).cuda()\n",
        "    for i in range(pop.shape[0]):\n",
        "        out[i] = torch.linalg.norm(weight - pop[i]).cuda()\n",
        "    return out"
      ],
      "execution_count": 40,
      "outputs": []
    },
    {
      "cell_type": "code",
      "metadata": {
        "id": "1wdGCaHQqsXg"
      },
      "source": [
        "def parentsTorch(pop, fitness, num_parents):\n",
        "    parents = torch.empty((num_parents, pop.shape[1])).cuda()\n",
        "    for parent_num in range(num_parents):\n",
        "        max_fitness_idx = torch.argmin(fitness)\n",
        "        parents[parent_num, :] = pop[max_fitness_idx, :]\n",
        "        fitness[max_fitness_idx] = 9e9\n",
        "    return parents"
      ],
      "execution_count": 41,
      "outputs": []
    },
    {
      "cell_type": "code",
      "metadata": {
        "id": "T8OrjfdWr_-O"
      },
      "source": [
        "def crossoverTorch(parents, offspring_size):\n",
        "    offspring = torch.empty(offspring_size).cuda()\n",
        "    crossover_point = np.uint8(offspring_size[1]/2)\n",
        "\n",
        "    for k in range(offspring_size[0]):\n",
        "        parent1_idx = k % parents.shape[0]\n",
        "        parent2_idx = (k + 1) % parents.shape[0]\n",
        "        offspring[k, :crossover_point] = parents[parent1_idx, :crossover_point]\n",
        "        offspring[k, crossover_point:] = parents[parent2_idx, crossover_point:]\n",
        "\n",
        "    return offspring"
      ],
      "execution_count": 42,
      "outputs": []
    },
    {
      "cell_type": "code",
      "metadata": {
        "id": "_14k5HNEsSfX"
      },
      "source": [
        "def mutationTorch(offspring_crossover):\n",
        "    for idx in range(offspring_crossover.shape[0]):\n",
        "        random_value = torch.randn(1).cuda()\n",
        "        offspring_crossover[idx, 2] = offspring_crossover[idx, 2] + random_value\n",
        "\n",
        "    return offspring_crossover"
      ],
      "execution_count": 43,
      "outputs": []
    },
    {
      "cell_type": "code",
      "metadata": {
        "id": "vcoEoTKWqsS8"
      },
      "source": [
        "t = time.time()\n",
        "weight = torch.from_numpy(weight).cuda()\n",
        "new_pop = torch.from_numpy(new_pop).cuda()\n",
        "for _ in range(max_gen):\n",
        "    fitness = fitnessTorch(weight, new_pop)\n",
        "    parents = parentsTorch(new_pop, fitness, num_parents)\n",
        "    offspring_crossover = crossoverTorch(parents, offspring_size=(pop_size[0] - parents.shape[0], num_weight))\n",
        "    offspring_mutation = mutationTorch(offspring_crossover)\n",
        "    new_pop[:parents.shape[0], :] = parents\n",
        "    new_pop[parents.shape[0]:, :] = offspring_mutation\n",
        "timeTorch = round(time.time() - t, 2)"
      ],
      "execution_count": 44,
      "outputs": []
    },
    {
      "cell_type": "code",
      "metadata": {
        "colab": {
          "base_uri": "https://localhost:8080/"
        },
        "id": "AQbmXVm0vA0W",
        "outputId": "19ba1625-1f4e-41af-af1b-5d39b344262e"
      },
      "source": [
        "timeTorch"
      ],
      "execution_count": 45,
      "outputs": [
        {
          "output_type": "execute_result",
          "data": {
            "text/plain": [
              "0.89"
            ]
          },
          "metadata": {},
          "execution_count": 45
        }
      ]
    },
    {
      "cell_type": "code",
      "metadata": {
        "colab": {
          "base_uri": "https://localhost:8080/",
          "height": 374
        },
        "id": "KT50E2Jdrj3u",
        "outputId": "6791754f-abca-4444-fecf-b657b75075df"
      },
      "source": [
        "best_weight = new_pop[torch.argmin(fitnessTorch(weight, new_pop))]\n",
        "y_pred = np.array([\n",
        "    best_weight[0] * (x**4) + \n",
        "    best_weight[1] * (x**3) + \n",
        "    best_weight[2] * (x**2) + \n",
        "    best_weight[3] * x +\n",
        "    best_weight[4] for x in x         \n",
        "])\n",
        "\n",
        "fig, ax = plt.subplots(figsize = (12, 6))\n",
        "ax.plot(x, y, label='true', color='#ed8087', linewidth=3)\n",
        "ax.plot(x, y_pred, label='predicted', color='#d036ff', linewidth=3)\n",
        "ax.grid(True)\n",
        "ax.legend(fontsize=14)\n",
        "plt.savefig('gpu.jpg')\n",
        "plt.show()\n",
        "\n",
        "fig.show()\n",
        "\n"
      ],
      "execution_count": 48,
      "outputs": [
        {
          "output_type": "display_data",
          "data": {
            "image/png": "[encoded data removed]",
            "text/plain": [
              "<Figure size 864x432 with 1 Axes>"
            ]
          },
          "metadata": {
            "needs_background": "light"
          }
        }
      ]
    },
    {
      "cell_type": "code",
      "metadata": {
        "id": "2D7f3Av_1Ern"
      },
      "source": [
        ""
      ],
      "execution_count": null,
      "outputs": []
    },
    {
      "cell_type": "code",
      "metadata": {
        "id": "Z3NcBQfOgYyB"
      },
      "source": [
        ""
      ],
      "execution_count": null,
      "outputs": []
    }
  ]
}